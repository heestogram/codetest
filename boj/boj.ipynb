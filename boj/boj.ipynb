{
 "cells": [
  {
   "cell_type": "code",
   "execution_count": 6,
   "metadata": {},
   "outputs": [
    {
     "name": "stdout",
     "output_type": "stream",
     "text": [
      "1\n",
      "2\n",
      "5\n"
     ]
    }
   ],
   "source": [
    "t = int(input())\n",
    "#dd\n",
    "for i in range(t):\n",
    "    n, m = map(int, input().split())\n",
    "    imp = list(map(int, input().split()))\n",
    "    step = 1\n",
    "    \n",
    "\n",
    "    while imp:\n",
    "        if imp[0] < max(imp):\n",
    "            imp.append(imp.pop(0))\n",
    "        else:\n",
    "            if m == 0: \n",
    "                break\n",
    "            imp.pop(0)\n",
    "            step += 1\n",
    "\n",
    "        m = m-1 if m>0 else len(imp)-1\n",
    "    print(step)"
   ]
  },
  {
   "cell_type": "code",
   "execution_count": 17,
   "metadata": {},
   "outputs": [
    {
     "name": "stdout",
     "output_type": "stream",
     "text": [
      "deque([5])\n",
      "1\n",
      "deque([1, 2, 3, 4])\n",
      "2\n",
      "deque([1, 1, 9, 1, 1, 1])\n",
      "5\n"
     ]
    }
   ],
   "source": [
    "from collections import deque\n",
    "import sys\n",
    "\n",
    "del max\n",
    "\n",
    "t = int(input())\n",
    "\n",
    "for i in range(t):\n",
    "    n, m = map(int, input().split())\n",
    "    imp = deque(list(map(int, sys.stdin.readline().split())))\n",
    "\n",
    "    step = 1\n",
    "    while imp:\n",
    "        maxim = max(imp)\n",
    "        first = imp.popleft()\n",
    "        m -= 1\n",
    "        \n",
    "        if first < maxim:\n",
    "            imp.append(first)\n",
    "\n",
    "            if m <0:\n",
    "                m = len(imp)-1\n",
    "\n",
    "        else:\n",
    "            if m < 0:\n",
    "                break\n",
    "            else:\n",
    "                step += 1\n",
    "    print(step)"
   ]
  },
  {
   "cell_type": "code",
   "execution_count": 5,
   "metadata": {},
   "outputs": [
    {
     "ename": "KeyboardInterrupt",
     "evalue": "",
     "output_type": "error",
     "traceback": [
      "\u001b[0;31m---------------------------------------------------------------------------\u001b[0m",
      "\u001b[0;31mKeyboardInterrupt\u001b[0m                         Traceback (most recent call last)",
      "Cell \u001b[0;32mIn[5], line 2\u001b[0m\n\u001b[1;32m      1\u001b[0m \u001b[38;5;28;01mimport\u001b[39;00m \u001b[38;5;21;01msys\u001b[39;00m\n\u001b[0;32m----> 2\u001b[0m n \u001b[38;5;241m=\u001b[39m \u001b[38;5;28mint\u001b[39m(sys\u001b[38;5;241m.\u001b[39mstdin\u001b[38;5;241m.\u001b[39mreadline())\n\u001b[1;32m      4\u001b[0m \u001b[38;5;28;01mfor\u001b[39;00m i \u001b[38;5;129;01min\u001b[39;00m \u001b[38;5;28mrange\u001b[39m(n):\n\u001b[1;32m      5\u001b[0m     com \u001b[38;5;241m=\u001b[39m sys\u001b[38;5;241m.\u001b[39mstdin\u001b[38;5;241m.\u001b[39mreadline()\u001b[38;5;241m.\u001b[39msplit()\n",
      "\u001b[0;31mKeyboardInterrupt\u001b[0m: "
     ]
    }
   ],
   "source": [
    "import sys\n",
    "n = int(sys.stdin.readline())\n",
    "\n",
    "for i in range(n):\n",
    "    com = sys.stdin.readline().split()\n",
    "    print(com)"
   ]
  }
 ],
 "metadata": {
  "kernelspec": {
   "display_name": "base",
   "language": "python",
   "name": "python3"
  },
  "language_info": {
   "codemirror_mode": {
    "name": "ipython",
    "version": 3
   },
   "file_extension": ".py",
   "mimetype": "text/x-python",
   "name": "python",
   "nbconvert_exporter": "python",
   "pygments_lexer": "ipython3",
   "version": "3.11.5"
  }
 },
 "nbformat": 4,
 "nbformat_minor": 2
}
